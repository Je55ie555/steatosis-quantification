{
 "cells": [
  {
   "cell_type": "markdown",
   "metadata": {},
   "source": [
    "# How to use generated data from Fat and Nucleus Detection Script"
   ]
  },
  {
   "cell_type": "markdown",
   "metadata": {},
   "source": [
    "The goal of this notebook is to explain the outputs of the fat and nucleus detection scripts, and to demonstrate how these results can be used.\n",
    "\n",
    "### Overview\n",
    "Dataframes generated as outputs:\n",
    "* [file_name]_data.csv\n",
    "* [file_name]_subpatch_df.pkl\n",
    "* [file_name]_raw_global.pkl #if using nucleus detection\n",
    "* [file_name]_fat_and_nucs.pkl #if using nucleus detection\n",
    "\n",
    "Now we'll go into the details of each dataframe."
   ]
  },
  {
   "cell_type": "markdown",
   "metadata": {},
   "source": [
    "### [file_name]_data.csv\n",
    "\n",
    "This dataframe contains general information about the WSI as well as information about white objects that could represent fatty objects. Based on the parameters defined when running the script, these objects are classified as \"fat\" or \"not fat\". Each object represents one line of this dataframe.\n",
    "The dataframe has the following columns:\n",
    "* WSI Information (stays constant for whole WSI):\n",
    "    * `WSI` = name of the WSI\n",
    "    * `global_threshold` = the threshold that is calculated using Otsu's threshold on the entire WSI (at a lower resolution to make it loadable)\n",
    "    * `patch_level` = the level at which the patch is processed at. \n",
    "    * `th_mpp` = the micrometers per pixel at which the global threshold is calculated at.\n",
    "    * `Mpp` = the patch-level micrometers per pixel\n",
    "    * `Magnification` = the magnification at which the WSI was scanned.\n",
    "\n",
    "* Patch Information (stays constant for whole patch):\n",
    "    * `patch_key` = the patch key in which the object is located in.\n",
    "    * `patch_x` = the x coordinate (pixel) of the patch in which the object is located, with respect to the WSI. \n",
    "    * `patch_y` = the y coordinate (pixel) of the patch in which the object is located, with respect to the WSI.\n",
    "    * `Black_area` = the total tissue (*not* including fatty area) in the processed patch.\n",
    "\n",
    "* Object information:\n",
    "    * `Centroid_x `= the local x coordinate (pixel) of the object, with respect to the patch.\n",
    "    * `Centroid_y` = the local y coordinate (pixel) of the object, with respect to the patch. \n",
    "    * `Area` = the area of the object (pixel)\n",
    "    * `Bbox_x` = the x coordinate of the object's bounding box (pixel)\n",
    "    * `Bbox_y`= the y coordinate of the object's bounding box (pixel)\n",
    "    * `Bbox_width` = width of the object's bounding box (pixel)\n",
    "    * `Bbox_height`  = height of the object's bounding box (pixel)\n",
    "    * `Extent` = the object's extent.\n",
    "    * `Axis_ratio` = the object's axis ratio\n",
    "    * `Circularity` = the object's circularity\n",
    "    * `is_fat`= if the object is considered fat, given the parameter settings (boolean)"
   ]
  },
  {
   "cell_type": "code",
   "execution_count": null,
   "metadata": {},
   "outputs": [],
   "source": [
    "### How to work with [file_name]_data.csv ###\n",
    "\n",
    "import pandas as pd\n",
    "import numpy as np\n",
    "\n",
    "# load the dataframe:\n",
    "object_data_csv = pd.read_csv( \"XXXXXXX\")\n",
    "print(f\"Information about {object_data_csv['WSI'].iloc[0]}\")\n",
    "print(f\"--- magnification = {object_data_csv['Magnification'].iloc[0]}\")\n",
    "print(f\"--- mpps at patch level = {object_data_csv['Mpp'].iloc[0]}\")\n",
    "\n",
    "# select only fat objects\n",
    "fat_df = object_data_csv[object_data_csv[\"is_fat\"] == True]\n",
    "print(f\"--- number of fat objects in this WSI = {len(fat_df)}\")\n",
    "\n",
    "\n",
    "# find number of patches in dataframe\n",
    "num_patches_in_df = len(np.unique(object_data_csv[\"patch_key\"]))\n",
    "print(f\"--- number of patches in dataframe = {num_patches_in_df}\")\n",
    "\n",
    "# get total tissue area of WSI. Also return only fatty area.\n",
    "def analyze_tissue_area_objects_df(objects_df):\n",
    "    total_black_area = 0 \n",
    "    total_fat_area = 0\n",
    "    for patch_key in np.unique(objects_df[\"patch_key\"]):\n",
    "        total_black_area += object_data_csv[object_data_csv[\"patch_key\"]== patch_key][\"Black_area\"].iloc[0] #black area stays constant for whole patch.\n",
    "        fat_objects_in_patch = object_data_csv[(object_data_csv[\"patch_key\"]==patch_key) & (object_data_csv[\"is_fat\"] == True)] #select only objects in the given patch that represent fatty objects.\n",
    "        fat_areas_in_patch = [float(object_area) for object_area in fat_objects_in_patch[\"Area\"].to_list()]\n",
    "        for fat_area in fat_areas_in_patch:\n",
    "            total_fat_area += fat_area\n",
    "    total_tissue = total_black_area + total_fat_area\n",
    "    return total_tissue, total_fat_area\n",
    "\n",
    "total_tissue, total_fat_area = analyze_tissue_area_objects_df(objects_df = object_data_csv)\n",
    "print(f\"total tissue (in pixels) found in WSI = {total_tissue}.\")\n",
    "print(f\"----- fat area (in pixels) = {total_fat_area}.\")\n",
    "print(f\"----- tissue area without fat (in pixels) = {total_tissue - total_fat_area}.\")\n",
    "print(f\"-> percent fat in WSI = {(total_fat_area/ total_tissue) * 100}.\")\n",
    "\n"
   ]
  },
  {
   "cell_type": "markdown",
   "metadata": {},
   "source": [
    "### [file_name]_subpatch_df.pkl\n",
    "\n",
    "This dataframe is generated when a larger patch is processed in smaller patches to be able to process the image at a lower resolution. This could be used to analyze fat distribution within the WSI. \n",
    "The dataframe has the following structure, with each row representing a subpatch:\n",
    "\n",
    "* `original_key` = the key of the (large) patch that is then divided into subpatches\n",
    "* `subpatch_size(px)` = edge length of the subpatch #stays constant\n",
    "* `subpatch_key` = key of the subpatch\n",
    "* `global_x_coords(px)` = the x coordinate of the subpatch, with respect to the entire WSI\n",
    "* `global_y_coords(px)` = the y coordinate of the subpatch, with respect to the entire WSI\n",
    "* `fat_area(px)` = the number of fat pixels in that subpatch\n",
    "* `black_area(px)` = the number of black pixels (tissue area not including fat pixels) in that subpatch\n",
    "* `mpps` = the micrometers per pixel at which the patch was processed #stays constant\n",
    "\n",
    "\n",
    "This dataframe can also be used to find total tissue area, and to calculate the fat percentage.\n"
   ]
  },
  {
   "cell_type": "code",
   "execution_count": null,
   "metadata": {},
   "outputs": [],
   "source": [
    "### How to work with [file_name]_subpatch_df.pkl ###\n",
    "\n",
    "import pandas as pd\n",
    "subpatch_df = pd.read_pickle(\"XXXXXXXX\")\n",
    "\n",
    "print(f\"number of subpatches in a patch: {max(subpatch_df['subpatch_key'].to_list())}\")\n",
    "print(f\"length of a subpatch: {subpatch_df['subpatch_size(px)'].iloc[0]} \")\n",
    "\n",
    "#find the total tissue_area, calculate the fat percentage\n",
    "def analyze_tissue_area_subpatch_df(subpatch_df):\n",
    "    black_area = subpatch_df[\"black_area(px)\"].sum()\n",
    "    fat_area = subpatch_df[\"fat_area(px)\"].sum()\n",
    "    total_tissue_area = black_area + fat_area\n",
    "    return total_tissue_area, fat_area\n",
    "\n",
    "total_tissue, total_fat_area = analyze_tissue_area_subpatch_df(subpatch_df)\n",
    "print(f\"total tissue (in pixels) found in WSI = {total_tissue}.\")\n",
    "print(f\"----- fat area (in pixels) = {total_fat_area}.\")\n",
    "print(f\"----- tissue area without fat (in pixels) = {total_tissue - total_fat_area}.\")\n",
    "print(f\"-> percent fat in WSI = {(total_fat_area/ total_tissue) * 100}.\")\n"
   ]
  },
  {
   "cell_type": "markdown",
   "metadata": {},
   "source": [
    "### [file_name]_raw_global.pkl \n",
    "This dataframe provides information about nuclei detected by HoVer-Net. Each row in this dataframe represents a nucleus that was detected. The columns are structured as following:\n",
    "* `Name` = name of WSI\n",
    "* `patch_key` = the patch key in which the nucleus is located in.\n",
    "* `local_centroid(px)` = the centorid of the nucleus with respect to the patch\n",
    "* `centroid_global(px)` = the centroid of the nucleus with respect to the WSI\n",
    "* `bbox_global(px)` = the bounding box of the nucleus, coordinates with respect to the WSI. Format:[[coords_x_0, coords_x1],[coords_y_0, coords_y_1]]\n",
    "* `contour_global(px)` = the contour of the nucleus, coordinates with respect to the WSI\n",
    "* `type` = type of the nuclei, if using HoVer-Net weights that support type prediction. See HoVer-Net documentation for more info.\n",
    "* `type_probability` = probabilty of the nucleus type. See HoVer-Net documentation for more info.\n",
    "* `area_nuc(pxs)` = area of the nucleus, in pixels\n",
    "* `is_a_relevant_nucleus` = to be a relevant (=valid) nuclei, the nucleus must be (a) located in scanned area, and (b) located within an area that contains tissue.\n"
   ]
  },
  {
   "cell_type": "code",
   "execution_count": null,
   "metadata": {},
   "outputs": [],
   "source": [
    "### How to work with [file_name]_raw_global.pkl ###\n",
    "import pandas as pd\n",
    "import numpy as np\n",
    "\n",
    "#load dataframe\n",
    "raw_nucleus_info = pd.read_pickle(\"XXXXXX\")\n",
    "print(f\"total number of detected nuclei: {len(raw_nucleus_info)}\")\n",
    "relevant_nuclei = raw_nucleus_info[raw_nucleus_info['is_a_relevant_nucleus'] == True] # get only relevant nuclei\n",
    "print(f\"total number of relevant nuclei: {len(relevant_nuclei)}\")\n",
    "print(f\"average area of relevant nuclei (in pixels): {np.mean(relevant_nuclei['area_nuc(pxs)'])}\")\n"
   ]
  },
  {
   "cell_type": "markdown",
   "metadata": {},
   "source": [
    "### [file_name]_fat_and_nucs.pkl\n",
    "\n",
    "This dataframe combines information about fat distribution and nucleus information. This dataframe is calculated on a subpatch level. Each row represents a subpatch.\n",
    "Each row on this dataframe represents a patch. The columns are organized as follows:\n",
    "* WSI Information\n",
    "    * `mpps` = patch_level micrometers per pixel. Stays constant\n",
    "\n",
    "* Patch Information\n",
    "    * `original_key`\n",
    "\n",
    "* Subpatch Information\n",
    "    * `subpatch_size(px)` #stays constant\n",
    "    * `subpatch_key` \n",
    "    * `global_x_coords(px)` = x coordinates of subpatch, with respect to WSI\n",
    "    * `global_y_coords(px)`= y coordinates of subpatch, with respect to WSI\n",
    "    * `fat_area(px)` = fat area in pixels in the subpatch\n",
    "    * `black_area(px)`= black area in pixels in the subpatch\n",
    "    * nucleus information for each relevant nucleus in the subpatch. Each of the following is a list with each element of the list representing the data of a nucleus\n",
    "        * `nuclei_coords_global(px)` = list of list of nucleus coordinates (coordinates with respect to the WSI)\n",
    "        * `nuclei_area(pxs)` = list of nuclei areas \n",
    "        * `nuclei_contour_global(px)` = list of nucei contours (with respect to the WSI)\n",
    "        * `nuclei_bbox_global(px)` = list of bounding boxes (with respect to the WSI)\n",
    "        * `nuclei_type` = list of nucleus types, if using HoVer-Net weights that support type prediction. See HoVer-Net documentation for more info.\n",
    "        * `nuclei_type_probability` = list of nucleus type probailities, if using HoVer-Net weights that support type predictions.\n",
    "        * `number_of_nuclei_in_subpatch` = (int) Number of nuclei located in the subpatch.\n"
   ]
  },
  {
   "cell_type": "code",
   "execution_count": null,
   "metadata": {},
   "outputs": [],
   "source": [
    "### How to work with [file_name]_fat_and_nucs.pkl ###\n",
    "import pandas as pd\n",
    "import numpy as np\n",
    "\n",
    "#load the dataframe\n",
    "fat_and_nucs_df = pd.read_pickle(\"XXXXXX\")\n",
    "\n",
    "#fat area and tissue area can be calculated analog to the subpatch_df.pkl (analyze_tissue_area_subpatch_df())\n",
    "print(f\"average number of nuclei per subpatch = {np.mean(fat_and_nucs_df['number_of_nuclei_in_subpatch'].to_list())}\")\n",
    "\n",
    "#lets look at one subpatch (that contains nuclei)\n",
    "subpatch_with_nucs = fat_and_nucs_df[fat_and_nucs_df[\"number_of_nuclei_in_subpatch\"] > 0].iloc[0]\n",
    "print(f\"number of nuclei in chosen subpatch: {subpatch_with_nucs['number_of_nuclei_in_subpatch']}\")\n",
    "print(f\"coordinates of nuclei in chosen subpatch: {subpatch_with_nucs['nuclei_coords_global(px)'][0]}\") #list of lists\n",
    "print(f\"areas of nuclei in chosen subpatch: {subpatch_with_nucs['nuclei_area(pxs)']}\")\n",
    "\n"
   ]
  },
  {
   "cell_type": "markdown",
   "metadata": {},
   "source": []
  }
 ],
 "metadata": {
  "kernelspec": {
   "display_name": "NASH_final",
   "language": "python",
   "name": "python3"
  },
  "language_info": {
   "codemirror_mode": {
    "name": "ipython",
    "version": 3
   },
   "file_extension": ".py",
   "mimetype": "text/x-python",
   "name": "python",
   "nbconvert_exporter": "python",
   "pygments_lexer": "ipython3",
   "version": "3.9.5"
  }
 },
 "nbformat": 4,
 "nbformat_minor": 2
}
