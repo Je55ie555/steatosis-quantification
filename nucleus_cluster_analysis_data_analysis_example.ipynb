{
 "cells": [
  {
   "cell_type": "markdown",
   "metadata": {},
   "source": [
    "# How to use generated data from Nucleus Cluster Analysis Script\n",
    "\n",
    "The goal of this notebook is to explain the outputs of the Nucleus Cluster Analysis Script, and to demonstrate how these results can be used.\n",
    "\n",
    "### Overview of scrip outputs:\n",
    "* [file_name]_[output-folder-name]_clusters.pkl #list of lists\n",
    "* [file_name]_[output-folder-name]_graph_stats.pkl #list of lists\n",
    "* [file_name]_[output-folder-name]_global_CCA.pkl #dataframe\n",
    "* [file_name]_fat_and_nucs.pkl #modified dataframe\n",
    "\n",
    "Now we'll go into the details of each output.\n"
   ]
  },
  {
   "cell_type": "markdown",
   "metadata": {},
   "source": [
    "### [file_name]_[output-folder-name]_clusters.pkl\n",
    "\n",
    "This is a list of a list, where each element contains a list of each nucleus coordinate in that cluster: [[(x1,y1), (x2,y2)], [(x3,y3)], ... ]. \n"
   ]
  },
  {
   "cell_type": "code",
   "execution_count": null,
   "metadata": {},
   "outputs": [],
   "source": [
    "import numpy as np\n",
    "import pickle\n",
    "\n",
    "with open(\"\", 'rb') as f:\n",
    "    clusters = pickle.load(f)\n",
    "\n",
    "print(f\" total number of nucleus clusters in WSI: {len(clusters)}\")\n",
    "print(f\" number of nuclei in first cluster: {len(clusters[0])}\")\n",
    "print(f\" coordinates of nuclei in first cluster: {clusters[0]}\")\n"
   ]
  },
  {
   "cell_type": "markdown",
   "metadata": {},
   "source": [
    "### [file_name]_[output-folder-name]_graph_stats.pkl\n",
    "\n",
    "This information is structured as a list of lists of nucleus information:\n",
    "\n",
    "\n",
    "graph_stats[0] = average clustering coefficient (list of a float with the length of one)<br>\n",
    "\n",
    "The remaining elements are all lists, with each list having the length of the number of relevant nuclei detected.\n",
    "\n",
    "graph_stats[1] = clustering coefficients (list)<br>\n",
    "graph_stats[2] = number of neighbors (list)<br>\n",
    "graph_stats[3] = number of non_neighbors (list)<br>\n",
    "graph_stats[4] = average distance (in pixels) to neighbors (list)<br> \n",
    "graph_stats[5] = average distance (in pixels) to non-neighbor (list)<br>\n",
    "graph_stats[6] = number of common neighbors (list)<br>\n",
    "graph_stats[7] = degree (list)<br>\n",
    "graph_stats[8] = is nucleus in a cluster (list)\n"
   ]
  },
  {
   "cell_type": "code",
   "execution_count": null,
   "metadata": {},
   "outputs": [],
   "source": [
    "import numpy as np\n",
    "import pickle\n",
    "\n",
    "with open(\"\", 'rb') as f:\n",
    "    graph_stats = pickle.load(f)\n",
    "\n",
    "print(f\"average clustering coefficient: {graph_stats[0]}\")\n",
    "#each of the remaining list elements each have the same length:\n",
    "for i in range(1,8):\n",
    "    i = int(i)\n",
    "    print(f\"length of graph_stats[{i}] = {len(graph_stats[i])}\")\n",
    "\n",
    "#to find the aberage distance to a neighbor for nucleus number x\n",
    "x = 10 #nucleus number\n",
    "print(f\"average distance to neighbors for nucleus number {x} =  {graph_stats[4][x]}\")\n",
    "print(f\"nucleus number {x} in a cluster? {graph_stats[8][x]}\")\n",
    "\n"
   ]
  },
  {
   "cell_type": "markdown",
   "metadata": {},
   "source": [
    "### [file_name]_[output-folder-name]_global_CCA.pkl\n",
    "\n",
    "This dataframe puts nuclei information on a global (ie WSI) scale. Information about fatty area, nuclei, as well as area taken up by nuclei clusters is contained in this dataframe. It contains the same information as [file_name]_fat_and_nucs.pkl dataframe, with the addition of the information about nucleus cluster area. To see how to use this information, see fat_and_nucleus_data_analysis_example.ipynb.\n",
    "\n",
    "The columns are organized as follows: \n",
    "\n",
    "\n",
    "* WSI Information\n",
    "    * `mpps` = patch_level micrometers per pixel. Stays constant\n",
    "\n",
    "* Patch Information\n",
    "    * `original_key`\n",
    "\n",
    "* Subpatch Information\n",
    "    * `subpatch_size(px)` #stays constant\n",
    "    * `subpatch_key` \n",
    "    * `global_x_coords(px)` = x coordinates of subpatch, with respect to WSI\n",
    "    * `global_y_coords(px)`= y coordinates of subpatch, with respect to WSI\n",
    "    * `fat_area(px)` = fat area in pixels in the subpatch\n",
    "    * `black_area(px)`= black area in pixels in the subpatch\n",
    "    * `area(px)_taken_up_by_nucleus_clusters_max_dis_{max_distance}(micrometers)` = area taken up by nucleus clusters, determined by calculating the convex hull around the nuclei in a cluster. Name of the column will vary based on micrometers used as max distance.\n",
    "    * nucleus information for each relevant nucleus in the subpatch. Each of the following is a list with each element of the list representing the data of a nucleus\n",
    "        * `nuclei_coords_global(px)` = list of list of nucleus coordinates (coordinates with respect to the WSI)\n",
    "        * `nuclei_area(pxs)` = list of nuclei areas \n",
    "        * `nuclei_contour_global(px)` = list of nucei contours (with respect to the WSI)\n",
    "        * `nuclei_bbox_global(px)` = list of bounding boxes (with respect to the WSI)\n",
    "        * `nuclei_type` = list of nucleus types, if using HoVer-Net weights that support type prediction. See HoVer-Net documentation for more info.\n",
    "        * `nuclei_type_probability` = list of nucleus type probailities, if using HoVer-Net weights that support type predictions.\n",
    "        * `number_of_nuclei_in_subpatch` = (int) Number of nuclei located in the subpatch.\n"
   ]
  },
  {
   "cell_type": "code",
   "execution_count": null,
   "metadata": {},
   "outputs": [],
   "source": [
    "import pandas as pd\n",
    "global_CCA_df = pd.read_pickle(\"XXXX\")\n",
    "print(global_CCA_df.columns)"
   ]
  },
  {
   "cell_type": "markdown",
   "metadata": {},
   "source": [
    "### Calculate cell based scores:\n",
    "#### Requirements:\n",
    "* Information about fatty vesicles from fat_and_nucleus_detection.py ([file_name]_data.csv) #gives us the number of detected fat objects\n",
    "* [file_name]_[output-folder-name]_graph_stats.pkl #gives us the number of detected nuclei, and if these are in a cluster."
   ]
  },
  {
   "cell_type": "code",
   "execution_count": null,
   "metadata": {},
   "outputs": [],
   "source": [
    "import os\n",
    "import pandas as pd\n",
    "import pickle\n",
    "\n",
    "\n",
    "# load the data for the same image\n",
    "fat_object_df = pd.read_csv(\"\")\n",
    "\n",
    "with open(\"\", 'rb') as f:\n",
    "    graph_stats = pickle.load(f)\n",
    "\n",
    "def find_cell_based_fat_percentage_for_one_WSI(fat_object_df, nucleus_information):\n",
    "\n",
    "    is_in_cluster = list(nucleus_information[8])\n",
    "    total_num_nuclei = len(is_in_cluster) #each nucleus has a boolean representing if the nucleus is in a cluster or not.\n",
    "    num_clustered_cells = sum(is_in_cluster)\n",
    "    num_non_clustered_cells = total_num_nuclei - num_clustered_cells\n",
    "    num_fat_cells = len(fat_object_df[fat_object_df[\"is_fat\"]==True])\n",
    "    \n",
    "    cell_based_score_without_cluster_information = (num_fat_cells / (total_num_nuclei + num_fat_cells))* 100\n",
    "    cell_based_scores_with_cluster_information = (num_fat_cells / (num_non_clustered_cells + num_fat_cells))* 100\n",
    "    return cell_based_score_without_cluster_information, cell_based_scores_with_cluster_information\n",
    "\n",
    "cell_based_score_without_cluster_information, cell_based_scores_with_cluster_information = find_cell_based_fat_percentage_for_one_WSI(fat_object_df=fat_object_df, nucleus_information=graph_stats)\n",
    "\n",
    "print(f\"cell based fat percentage without differentiating between clustered and non-clustered nuclei: {cell_based_score_without_cluster_information}\")\n",
    "print(f\"cell based fat percentage while differentiating between clustered and non-clustered nuclei: {cell_based_scores_with_cluster_information}\") \n"
   ]
  },
  {
   "cell_type": "code",
   "execution_count": null,
   "metadata": {},
   "outputs": [],
   "source": []
  }
 ],
 "metadata": {
  "kernelspec": {
   "display_name": "NASH_final",
   "language": "python",
   "name": "python3"
  },
  "language_info": {
   "codemirror_mode": {
    "name": "ipython",
    "version": 3
   },
   "file_extension": ".py",
   "mimetype": "text/x-python",
   "name": "python",
   "nbconvert_exporter": "python",
   "pygments_lexer": "ipython3",
   "version": "3.9.5"
  }
 },
 "nbformat": 4,
 "nbformat_minor": 2
}
