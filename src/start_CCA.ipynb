{
 "cells": [
  {
   "cell_type": "code",
   "execution_count": null,
   "id": "deadly-herald",
   "metadata": {},
   "outputs": [],
   "source": [
    "import os\n",
    "import pandas as pd\n",
    "import matplotlib.pyplot as plt\n",
    "import pandas as pd\n",
    "from CCA_nuclei import *\n",
    "\n",
    "\n",
    "base_path = r\"\"\n",
    "fat_path = r\"\"\n",
    "max_distance = 15\n",
    "experiment_name = \"\"\n",
    "removed_df_label=\"\"\n",
    "processed_imgs = run_CCA(base_path, fat_path, max_distance, experiment_name, removed_df_label)"
   ]
  },
  {
   "cell_type": "code",
   "execution_count": null,
   "id": "5640d4d9",
   "metadata": {},
   "outputs": [],
   "source": []
  }
 ],
 "metadata": {
  "kernelspec": {
   "display_name": "Python 3",
   "language": "python",
   "name": "python3"
  },
  "language_info": {
   "codemirror_mode": {
    "name": "ipython",
    "version": 3
   },
   "file_extension": ".py",
   "mimetype": "text/x-python",
   "name": "python",
   "nbconvert_exporter": "python",
   "pygments_lexer": "ipython3",
   "version": "3.9.5"
  }
 },
 "nbformat": 4,
 "nbformat_minor": 5
}
