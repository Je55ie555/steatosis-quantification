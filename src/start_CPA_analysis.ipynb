{
 "cells": [
  {
   "cell_type": "code",
   "execution_count": null,
   "id": "supposed-snake",
   "metadata": {},
   "outputs": [],
   "source": [
    "import os\n",
    "from pathlib import Path\n",
    "from os import path\n",
    "import pandas as pd\n",
    "from CPA_analysis import *\n",
    "experiment_name = \"xxxxx\"\n",
    "file_loc =r\"xxx\" \n",
    "run_path = r\"xxx\" + \"/\" + experiment_name + \"/\"\n",
    "FILE_TYPE = \".mrxs\" # or \".czi\"\n",
    "PRAC_IMG= \"\" #to run all images, write \"\"\n",
    "imgs_to_process = [\"\"] #fill in images here that you want to run \n",
    "assert path.exists(file_loc)\n",
    "Path(f\"{run_path}\").mkdir(parents=True, exist_ok=True)#set to False in real world\n",
    "## general parameters ##\n",
    "PATCH_SIZE = 1500 #in micrometers\n",
    "PATCH_LEVEL = 0  \n",
    "MIN_AREA = 40 #in micrometers \n",
    "MAX_AREA = 10000 #in micrometers\n",
    "MIN_EXTENT = 0.5\n",
    "FILL_FG_SIZE = MIN_AREA - .2 #in micrometers\n",
    "FILL_BG_SIZE = MIN_AREA + .2 #in micrometers\n",
    "MAX_AXIS_RATIO = 2  \n",
    "DISK = 8.3478513356562 \n",
    "\n",
    "\n",
    "\"\"\" and here we go!!\"\"\"\n",
    "detect_CPA(\n",
    "    file_location=file_loc,\n",
    "    run_path = run_path,\n",
    "    PATCH_SIZE=PATCH_SIZE,\n",
    "    patch_level=PATCH_LEVEL,\n",
    "    MIN_FAT_AREA=MIN_AREA,\n",
    "    MAX_FAT_AREA=MAX_AREA,\n",
    "    min_extent=MIN_EXTENT,\n",
    "    max_axis_ratio=MAX_AXIS_RATIO,\n",
    "    FILLED_BG_HOLE_SIZE=FILL_BG_SIZE,\n",
    "    FILLED_FG_HOLE_SIZE=FILL_FG_SIZE,\n",
    "    file_type=FILE_TYPE,\n",
    "    KERNEL=DISK,\n",
    "    PRAC_IMG=PRAC_IMG,\n",
    "    imgs_to_process=imgs_to_process\n",
    ")\n"
   ]
  }
 ],
 "metadata": {
  "kernelspec": {
   "display_name": "Python 3",
   "language": "python",
   "name": "python3"
  },
  "language_info": {
   "codemirror_mode": {
    "name": "ipython",
    "version": 3
   },
   "file_extension": ".py",
   "mimetype": "text/x-python",
   "name": "python",
   "nbconvert_exporter": "python",
   "pygments_lexer": "ipython3",
   "version": "3.9.5"
  }
 },
 "nbformat": 4,
 "nbformat_minor": 5
}
